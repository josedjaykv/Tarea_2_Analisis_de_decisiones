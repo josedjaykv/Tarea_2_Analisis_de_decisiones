{
 "cells": [
  {
   "cell_type": "markdown",
   "metadata": {},
   "source": [
    "# Librerias"
   ]
  },
  {
   "cell_type": "code",
   "execution_count": 83,
   "metadata": {},
   "outputs": [],
   "source": [
    "import numpy as np\n",
    "import skfuzzy as fuzz\n",
    "import matplotlib.pyplot as plt\n",
    "from skfuzzy import control as ctrl\n",
    "import warnings\n",
    "warnings.filterwarnings(\"ignore\")"
   ]
  },
  {
   "cell_type": "markdown",
   "metadata": {},
   "source": [
    "# 1. Declarar Universos de discurso"
   ]
  },
  {
   "cell_type": "code",
   "execution_count": 84,
   "metadata": {},
   "outputs": [],
   "source": [
    "# Variables de entrada\n",
    "vertimiento = ctrl.Antecedent(np.arange(0, 36, 1), 'vertimiento')\n",
    "ton_CO2 = ctrl.Antecedent(np.arange(1500, 12701, 1), 'ton_CO2')\n",
    "lts_Agua = ctrl.Antecedent(np.arange(75, 901, 1), 'lts_Agua')\n",
    "\n",
    "# Variable de salida\n",
    "riesgo = ctrl.Consequent(np.arange(0, 101, 1), 'riesgo')"
   ]
  },
  {
   "cell_type": "markdown",
   "metadata": {},
   "source": [
    "# 2. Construir los conjuntos borrosos para los Antecedentes y consecuente"
   ]
  },
  {
   "cell_type": "code",
   "execution_count": 85,
   "metadata": {},
   "outputs": [],
   "source": [
    "vertimiento['pocos'] = fuzz.trapmf(vertimiento.universe, [0, 0, 6, 12])\n",
    "vertimiento['moderado'] = fuzz.trimf(vertimiento.universe, [10, 15, 20])\n",
    "vertimiento['excesivo'] = fuzz.trapmf(vertimiento.universe, [20, 29, 35, 35])\n",
    "\n",
    "ton_CO2['reducida'] = fuzz.trimf(ton_CO2.universe, [1500, 3900, 6300])\n",
    "ton_CO2['moderada'] = fuzz.trapmf(ton_CO2.universe, [2800, 6300, 8500, 10100])\n",
    "ton_CO2['elevada'] = fuzz.trimf(ton_CO2.universe, [8500, 10600, 12700])\n",
    "\n",
    "lts_Agua['bajo'] = fuzz.trapmf(lts_Agua.universe, [75, 75, 150, 380])\n",
    "lts_Agua['medio'] = fuzz.trimf(lts_Agua.universe, [150,300,600])\n",
    "lts_Agua['alto'] = fuzz.trapmf(lts_Agua.universe, [500,600,900,900])\n",
    "\n",
    "riesgo['bajo'] = fuzz.trapmf(riesgo.universe, [0,0,20,40])\n",
    "riesgo['medio'] = fuzz.trimf(riesgo.universe, [30,50,70])\n",
    "riesgo['alto'] = fuzz.trapmf(riesgo.universe, [60,80,100,100])"
   ]
  },
  {
   "cell_type": "markdown",
   "metadata": {},
   "source": [
    "# 3. Definir las funciones monotonas para el consecuente"
   ]
  },
  {
   "cell_type": "code",
   "execution_count": 86,
   "metadata": {},
   "outputs": [],
   "source": [
    "def pendiente_bajo(x):\n",
    "    riesgo['bajo'] = fuzz.sigmf(riesgo.universe, 20, x)\n",
    "    riesgo['medio'] = fuzz.sigmf(riesgo.universe, 50, -0.05)\n",
    "    riesgo['alto'] = fuzz.sigmf(riesgo.universe, 80, 0.05)\n",
    "    # todas son sigmoideas porque son monotonas (creciente o decreciente)\n",
    "\n",
    "    return riesgo\n"
   ]
  },
  {
   "cell_type": "markdown",
   "metadata": {},
   "source": [
    "# 4. Base del conocimiento"
   ]
  },
  {
   "cell_type": "code",
   "execution_count": 87,
   "metadata": {},
   "outputs": [],
   "source": [
    "def reglas(x):\n",
    "    riesgo = pendiente_bajo(x)\n",
    "    regla1 = ctrl.Rule(vertimiento['pocos'] & ton_CO2['reducida'] & lts_Agua['bajo'], riesgo['bajo'])\n",
    "    regla2 = ctrl.Rule(vertimiento['pocos'] & ton_CO2['reducida'] & lts_Agua['medio'], riesgo['bajo'])\n",
    "    regla3 = ctrl.Rule(vertimiento['pocos'] & ton_CO2['reducida'] & lts_Agua['alto'], riesgo['medio'])\n",
    "    regla4 = ctrl.Rule(vertimiento['pocos'] & ton_CO2['moderada'] & lts_Agua['bajo'], riesgo['bajo'])\n",
    "    regla5 = ctrl.Rule(vertimiento['pocos'] & ton_CO2['moderada'] & lts_Agua['medio'], riesgo['medio'])\n",
    "    regla6 = ctrl.Rule(vertimiento['pocos'] & ton_CO2['moderada'] & lts_Agua['alto'], riesgo['medio'])\n",
    "    regla7 = ctrl.Rule(vertimiento['pocos'] & ton_CO2['elevada'] & lts_Agua['bajo'], riesgo['medio'])\n",
    "    regla8 = ctrl.Rule(vertimiento['pocos'] & ton_CO2['elevada'] & lts_Agua['medio'], riesgo['medio'])\n",
    "    regla9 = ctrl.Rule(vertimiento['pocos'] & ton_CO2['elevada'] & lts_Agua['alto'], riesgo['medio'])\n",
    "    regla10 = ctrl.Rule(vertimiento['moderado'] & ton_CO2['reducida'] & lts_Agua['bajo'], riesgo['bajo'])\n",
    "    regla11 = ctrl.Rule(vertimiento['moderado'] & ton_CO2['reducida'] & lts_Agua['medio'], riesgo['medio'])\n",
    "    regla12 = ctrl.Rule(vertimiento['moderado'] & ton_CO2['reducida'] & lts_Agua['alto'], riesgo['medio'])\n",
    "    regla13 = ctrl.Rule(vertimiento['moderado'] & ton_CO2['moderada'] & lts_Agua['bajo'], riesgo['medio'])\n",
    "    regla14 = ctrl.Rule(vertimiento['moderado'] & ton_CO2['moderada'] & lts_Agua['medio'], riesgo['medio'])\n",
    "    regla15 = ctrl.Rule(vertimiento['moderado'] & ton_CO2['moderada'] & lts_Agua['alto'], riesgo['medio'])\n",
    "    regla16 = ctrl.Rule(vertimiento['moderado'] & ton_CO2['elevada'] & lts_Agua['bajo'], riesgo['medio'])\n",
    "    regla17 = ctrl.Rule(vertimiento['moderado'] & ton_CO2['elevada'] & lts_Agua['medio'], riesgo['medio'])\n",
    "    regla18 = ctrl.Rule(vertimiento['moderado'] & ton_CO2['elevada'] & lts_Agua['alto'], riesgo['alto'])\n",
    "    regla19 = ctrl.Rule(vertimiento['excesivo'] & ton_CO2['reducida'] & lts_Agua['bajo'], riesgo['medio'])\n",
    "    regla20 = ctrl.Rule(vertimiento['excesivo'] & ton_CO2['reducida'] & lts_Agua['medio'], riesgo['medio'])\n",
    "    regla21 = ctrl.Rule(vertimiento['excesivo'] & ton_CO2['reducida'] & lts_Agua['alto'], riesgo['medio'])\n",
    "    regla22 = ctrl.Rule(vertimiento['excesivo'] & ton_CO2['moderada'] & lts_Agua['bajo'], riesgo['medio'])\n",
    "    regla23 = ctrl.Rule(vertimiento['excesivo'] & ton_CO2['moderada'] & lts_Agua['medio'], riesgo['medio'])\n",
    "    regla24 = ctrl.Rule(vertimiento['excesivo'] & ton_CO2['moderada'] & lts_Agua['alto'], riesgo['alto'])\n",
    "    regla25 = ctrl.Rule(vertimiento['excesivo'] & ton_CO2['elevada'] & lts_Agua['bajo'], riesgo['medio'])\n",
    "    regla26 = ctrl.Rule(vertimiento['excesivo'] & ton_CO2['elevada'] & lts_Agua['medio'], riesgo['alto'])\n",
    "    regla27 = ctrl.Rule(vertimiento['excesivo'] & ton_CO2['elevada'] & lts_Agua['alto'], riesgo['alto'])\n",
    "\n",
    "    return [regla1, regla2, regla3, regla4, regla5, regla6, regla7, regla8, regla9, regla10, regla11, regla12, regla13, regla14, regla15, regla16, regla17, regla18, regla19, regla20, regla21, regla22, regla23, regla24, regla25, regla26, regla27]"
   ]
  },
  {
   "cell_type": "markdown",
   "metadata": {},
   "source": [
    "# 5. Uso del motor de inferencia"
   ]
  },
  {
   "cell_type": "code",
   "execution_count": 88,
   "metadata": {},
   "outputs": [
    {
     "name": "stdout",
     "output_type": "stream",
     "text": [
      "La pendiente del riesgo bajo que minimiza el MAPE es: -0.02999999999999825 y el MAPE es: 4.458697949757912%\n"
     ]
    }
   ],
   "source": [
    "pendientes = []\n",
    "MAPEs = []\n",
    "\n",
    "def encontrar_menor_MAPE():\n",
    "    for x in np.arange(-2, 2, 0.01):\n",
    "        control = ctrl.ControlSystem(reglas(x))\n",
    "        riesgo_calculado = ctrl.ControlSystemSimulation(control)\n",
    "        riesgo_calculado.input['vertimiento'] = 2\n",
    "        riesgo_calculado.input['ton_CO2'] = 3700\n",
    "        riesgo_calculado.input['lts_Agua'] = 340\n",
    "        riesgo_calculado.compute()\n",
    "\n",
    "        MAPE = abs(riesgo_calculado.output['riesgo'] - 38)*100 / 38 \n",
    "\n",
    "        pendientes.append(x)\n",
    "        MAPEs.append(MAPE)\n",
    "\n",
    "    menor_MAPE = min(MAPEs)\n",
    "    indice = MAPEs.index(menor_MAPE)\n",
    "    pendiente = pendientes[indice]\n",
    "    return f\"La pendiente del riesgo bajo que minimiza el MAPE es: {pendiente} y el MAPE es: {menor_MAPE}%\"\n",
    "\n",
    "print(encontrar_menor_MAPE())\n",
    "\n",
    "\n"
   ]
  }
 ],
 "metadata": {
  "kernelspec": {
   "display_name": ".venv",
   "language": "python",
   "name": "python3"
  },
  "language_info": {
   "codemirror_mode": {
    "name": "ipython",
    "version": 3
   },
   "file_extension": ".py",
   "mimetype": "text/x-python",
   "name": "python",
   "nbconvert_exporter": "python",
   "pygments_lexer": "ipython3",
   "version": "3.13.1"
  }
 },
 "nbformat": 4,
 "nbformat_minor": 2
}
